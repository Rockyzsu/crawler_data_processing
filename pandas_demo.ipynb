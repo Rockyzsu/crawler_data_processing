{
 "cells": [
  {
   "cell_type": "code",
   "execution_count": 1,
   "metadata": {},
   "outputs": [],
   "source": [
    "import pandas as pd\n",
    "import numpy as np\n",
    "import matplotlib.pyplot as plt\n",
    "from unicodedata import normalize\n",
    "\n",
    "table_MN = pd.read_html('https://en.wikipedia.org/wiki/Minnesota')"
   ]
  },
  {
   "cell_type": "code",
   "execution_count": null,
   "id": "7f80830e",
   "metadata": {},
   "outputs": [
    {
     "data": {
      "text/html": [
       "<div>\n",
       "<style scoped>\n",
       "    .dataframe tbody tr th:only-of-type {\n",
       "        vertical-align: middle;\n",
       "    }\n",
       "\n",
       "    .dataframe tbody tr th {\n",
       "        vertical-align: top;\n",
       "    }\n",
       "\n",
       "    .dataframe thead th {\n",
       "        text-align: right;\n",
       "    }\n",
       "</style>\n",
       "<table border=\"1\" class=\"dataframe\">\n",
       "  <thead>\n",
       "    <tr style=\"text-align: right;\">\n",
       "      <th></th>\n",
       "      <th>Location</th>\n",
       "      <th>July (°F)</th>\n",
       "      <th>July (°C)</th>\n",
       "      <th>January (°F)</th>\n",
       "      <th>January (°C)</th>\n",
       "    </tr>\n",
       "  </thead>\n",
       "  <tbody>\n",
       "    <tr>\n",
       "      <th>0</th>\n",
       "      <td>Minneapolis</td>\n",
       "      <td>83/64</td>\n",
       "      <td>28/18</td>\n",
       "      <td>23/7</td>\n",
       "      <td>−4/−13</td>\n",
       "    </tr>\n",
       "    <tr>\n",
       "      <th>1</th>\n",
       "      <td>Saint Paul</td>\n",
       "      <td>83/63</td>\n",
       "      <td>28/17</td>\n",
       "      <td>23/6</td>\n",
       "      <td>−5/−14</td>\n",
       "    </tr>\n",
       "    <tr>\n",
       "      <th>2</th>\n",
       "      <td>Rochester</td>\n",
       "      <td>82/63</td>\n",
       "      <td>28/17</td>\n",
       "      <td>23/3</td>\n",
       "      <td>−5/−16</td>\n",
       "    </tr>\n",
       "    <tr>\n",
       "      <th>3</th>\n",
       "      <td>Duluth</td>\n",
       "      <td>76/55</td>\n",
       "      <td>24/13</td>\n",
       "      <td>19/1</td>\n",
       "      <td>−7/−17</td>\n",
       "    </tr>\n",
       "    <tr>\n",
       "      <th>4</th>\n",
       "      <td>St. Cloud</td>\n",
       "      <td>81/58</td>\n",
       "      <td>27/14</td>\n",
       "      <td>18/−1</td>\n",
       "      <td>−7/−18</td>\n",
       "    </tr>\n",
       "    <tr>\n",
       "      <th>5</th>\n",
       "      <td>Mankato</td>\n",
       "      <td>86/62</td>\n",
       "      <td>30/16</td>\n",
       "      <td>23/3</td>\n",
       "      <td>−5/−16</td>\n",
       "    </tr>\n",
       "    <tr>\n",
       "      <th>6</th>\n",
       "      <td>International Falls</td>\n",
       "      <td>77/52</td>\n",
       "      <td>25/11</td>\n",
       "      <td>15/−6</td>\n",
       "      <td>−9/−21</td>\n",
       "    </tr>\n",
       "  </tbody>\n",
       "</table>\n",
       "</div>"
      ],
      "text/plain": [
       "              Location July (°F) July (°C) January (°F) January (°C)\n",
       "0          Minneapolis     83/64     28/18         23/7       −4/−13\n",
       "1           Saint Paul     83/63     28/17         23/6       −5/−14\n",
       "2            Rochester     82/63     28/17         23/3       −5/−16\n",
       "3               Duluth     76/55     24/13         19/1       −7/−17\n",
       "4            St. Cloud     81/58     27/14        18/−1       −7/−18\n",
       "5              Mankato     86/62     30/16         23/3       −5/−16\n",
       "6  International Falls     77/52     25/11        15/−6       −9/−21"
      ]
     },
     "execution_count": 5,
     "metadata": {},
     "output_type": "execute_result"
    },
    {
     "ename": "",
     "evalue": "",
     "output_type": "error",
     "traceback": [
      "\u001b[1;31mThe Kernel crashed while executing code in the current cell or a previous cell. \n",
      "\u001b[1;31mPlease review the code in the cell(s) to identify a possible cause of the failure. \n",
      "\u001b[1;31mClick <a href='https://aka.ms/vscodeJupyterKernelCrash'>here</a> for more info. \n",
      "\u001b[1;31mView Jupyter <a href='command:jupyter.viewOutput'>log</a> for further details."
     ]
    }
   ],
   "source": [
    "table_MN[2]"
   ]
  },
  {
   "cell_type": "code",
   "execution_count": null,
   "id": "86a15f8a",
   "metadata": {},
   "outputs": [],
   "source": []
  }
 ],
 "metadata": {
  "kernelspec": {
   "display_name": "py11",
   "language": "python",
   "name": "python3"
  },
  "language_info": {
   "codemirror_mode": {
    "name": "ipython",
    "version": 3
   },
   "file_extension": ".py",
   "mimetype": "text/x-python",
   "name": "python",
   "nbconvert_exporter": "python",
   "pygments_lexer": "ipython3",
   "version": "3.11.5"
  }
 },
 "nbformat": 4,
 "nbformat_minor": 5
}
